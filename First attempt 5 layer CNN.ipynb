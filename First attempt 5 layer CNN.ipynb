{
 "cells": [
  {
   "cell_type": "code",
   "execution_count": 1,
   "metadata": {},
   "outputs": [],
   "source": [
    "import tensorflow as tf"
   ]
  },
  {
   "cell_type": "code",
   "execution_count": 3,
   "metadata": {},
   "outputs": [
    {
     "ename": "AttributeError",
     "evalue": "module 'tensorflow' has no attribute 'Session'",
     "output_type": "error",
     "traceback": [
      "\u001b[1;31m---------------------------------------------------------------------------\u001b[0m",
      "\u001b[1;31mAttributeError\u001b[0m                            Traceback (most recent call last)",
      "\u001b[1;32m<ipython-input-3-0c08bb5e9cc1>\u001b[0m in \u001b[0;36m<module>\u001b[1;34m\u001b[0m\n\u001b[1;32m----> 1\u001b[1;33m \u001b[1;32mwith\u001b[0m \u001b[0mtf\u001b[0m\u001b[1;33m.\u001b[0m\u001b[0mSession\u001b[0m\u001b[1;33m(\u001b[0m\u001b[1;33m)\u001b[0m \u001b[1;32mas\u001b[0m \u001b[0msess\u001b[0m\u001b[1;33m:\u001b[0m\u001b[1;33m\u001b[0m\u001b[1;33m\u001b[0m\u001b[0m\n\u001b[0m\u001b[0;32m      2\u001b[0m     \u001b[0mprint\u001b[0m\u001b[1;33m(\u001b[0m\u001b[1;34m\"Hello\"\u001b[0m\u001b[1;33m)\u001b[0m\u001b[1;33m\u001b[0m\u001b[1;33m\u001b[0m\u001b[0m\n",
      "\u001b[1;31mAttributeError\u001b[0m: module 'tensorflow' has no attribute 'Session'"
     ]
    }
   ],
   "source": [
    "with tf.Session() as sess:\n",
    "    print(\"Hello\")"
   ]
  },
  {
   "cell_type": "code",
   "execution_count": 4,
   "metadata": {},
   "outputs": [
    {
     "name": "stdout",
     "output_type": "stream",
     "text": [
      "[name: \"/device:CPU:0\"\n",
      "device_type: \"CPU\"\n",
      "memory_limit: 268435456\n",
      "locality {\n",
      "}\n",
      "incarnation: 11264566011526649576\n",
      ", name: \"/device:GPU:0\"\n",
      "device_type: \"GPU\"\n",
      "memory_limit: 4849834393\n",
      "locality {\n",
      "  bus_id: 1\n",
      "  links {\n",
      "  }\n",
      "}\n",
      "incarnation: 10500998229170270625\n",
      "physical_device_desc: \"device: 0, name: GeForce GTX 1660 Ti with Max-Q Design, pci bus id: 0000:01:00.0, compute capability: 7.5\"\n",
      "]\n"
     ]
    }
   ],
   "source": [
    "from tensorflow.python.client import device_lib\n",
    "print(device_lib.list_local_devices())"
   ]
  },
  {
   "cell_type": "code",
   "execution_count": 5,
   "metadata": {},
   "outputs": [
    {
     "name": "stdout",
     "output_type": "stream",
     "text": [
      "Default GPU Device: /device:GPU:0\n"
     ]
    }
   ],
   "source": [
    "import tensorflow as tf\n",
    "if tf.test.gpu_device_name():\n",
    "   print('Default GPU Device: {}'.format(tf.test.gpu_device_name()))\n",
    "else:\n",
    "   print(\"Please install GPU version of TF\")"
   ]
  },
  {
   "cell_type": "code",
   "execution_count": 81,
   "metadata": {},
   "outputs": [
    {
     "name": "stdout",
     "output_type": "stream",
     "text": [
      "Processing c:\\users\\ashuk\\appdata\\local\\pip\\cache\\wheels\\46\\ef\\c3\\157e41f5ee1372d1be90b09f74f82b10e391eaacca8f22d33e\\sklearn-0.0-py2.py3-none-any.whl\n",
      "Collecting scikit-learn\n",
      "  Downloading scikit_learn-0.22.2.post1-cp37-cp37m-win_amd64.whl (6.5 MB)\n",
      "Collecting joblib>=0.11\n",
      "  Using cached joblib-0.14.1-py2.py3-none-any.whl (294 kB)\n",
      "Requirement already satisfied: scipy>=0.17.0 in c:\\users\\ashuk\\.conda\\envs\\tensorflow_env\\lib\\site-packages (from scikit-learn->sklearn) (1.4.1)\n",
      "Requirement already satisfied: numpy>=1.11.0 in c:\\users\\ashuk\\.conda\\envs\\tensorflow_env\\lib\\site-packages (from scikit-learn->sklearn) (1.18.1)\n",
      "Installing collected packages: joblib, scikit-learn, sklearn\n",
      "Successfully installed joblib-0.14.1 scikit-learn-0.22.2.post1 sklearn-0.0\n"
     ]
    }
   ],
   "source": [
    "!pip install sklearn"
   ]
  },
  {
   "cell_type": "code",
   "execution_count": 100,
   "metadata": {},
   "outputs": [],
   "source": [
    "# module import block of code\n",
    "import os\n",
    "import pandas as pd\n",
    "import numpy as np\n",
    "import matplotlib.pyplot as plt\n",
    "import matplotlib.image as img\n",
    "from PIL import Image\n",
    "from keras import layers\n",
    "from keras.layers import Dropout,Input, Add, Dense, Activation, ZeroPadding2D, BatchNormalization, Flatten, Conv2D, AveragePooling2D, MaxPooling2D, GlobalMaxPooling2D, MaxPool2D\n",
    "from keras.models import Model, load_model, Sequential\n",
    "from keras.optimizers import Adam\n",
    "from keras.preprocessing.image import ImageDataGenerator\n",
    "from sklearn.model_selection import train_test_split"
   ]
  },
  {
   "cell_type": "code",
   "execution_count": 42,
   "metadata": {},
   "outputs": [],
   "source": [
    "train_df = pd.read_csv(\"train.csv\")\n",
    "test_df = pd.read_csv(\"test.csv\")\n",
    "sample_submission_df = pd.read_csv(\"sample_submission.csv\")"
   ]
  },
  {
   "cell_type": "code",
   "execution_count": 43,
   "metadata": {},
   "outputs": [],
   "source": [
    "shape_x, shape_y = 1365, 2048"
   ]
  },
  {
   "cell_type": "code",
   "execution_count": 44,
   "metadata": {},
   "outputs": [],
   "source": [
    "image_path = \"images/\""
   ]
  },
  {
   "cell_type": "code",
   "execution_count": 45,
   "metadata": {},
   "outputs": [],
   "source": [
    "# load train image\n",
    "train_image_list = []\n",
    "for image_name in train_df[\"image_id\"]:\n",
    "    image = Image.open(\"\".join([image_path, image_name,\".jpg\"]))\n",
    "    image = image.resize((80,80))\n",
    "    #image = img.imread(\"\".join([image_path, image_name,\".jpg\"]))\n",
    "    train_image_list.append(np.asarray(image))"
   ]
  },
  {
   "cell_type": "code",
   "execution_count": 46,
   "metadata": {},
   "outputs": [
    {
     "data": {
      "text/plain": [
       "1821"
      ]
     },
     "execution_count": 46,
     "metadata": {},
     "output_type": "execute_result"
    }
   ],
   "source": [
    "len(train_image_list)"
   ]
  },
  {
   "cell_type": "code",
   "execution_count": 47,
   "metadata": {},
   "outputs": [],
   "source": [
    "# load train image\n",
    "test_image_list = []\n",
    "for image_name in test_df[\"image_id\"]:\n",
    "    image = Image.open(\"\".join([image_path, image_name,\".jpg\"]))\n",
    "    image = image.resize((80,80))\n",
    "    #image = img.imread(\"\".join([image_path, image_name,\".jpg\"]))\n",
    "    test_image_list.append(np.asarray(image))"
   ]
  },
  {
   "cell_type": "code",
   "execution_count": 48,
   "metadata": {},
   "outputs": [
    {
     "data": {
      "text/plain": [
       "1821"
      ]
     },
     "execution_count": 48,
     "metadata": {},
     "output_type": "execute_result"
    }
   ],
   "source": [
    "len(test_image_list)"
   ]
  },
  {
   "cell_type": "code",
   "execution_count": 52,
   "metadata": {},
   "outputs": [
    {
     "name": "stdout",
     "output_type": "stream",
     "text": [
      "Train Shape: (1821, 80, 80, 3)\n"
     ]
    }
   ],
   "source": [
    "X_Train = np.ndarray(shape=(len(train_image_list), 80, 80, 3),dtype = np.float32)\n",
    "i=0\n",
    "for image in train_image_list:\n",
    "    #X_Train[i]=img_to_array(image)\n",
    "    X_Train[i]=train_image_list[i]\n",
    "    i=i+1\n",
    "X_Train=X_Train/255\n",
    "\n",
    "print('Train Shape: {}'.format(X_Train.shape))"
   ]
  },
  {
   "cell_type": "code",
   "execution_count": 54,
   "metadata": {},
   "outputs": [
    {
     "name": "stdout",
     "output_type": "stream",
     "text": [
      "Test Shape: (1821, 80, 80, 3)\n"
     ]
    }
   ],
   "source": [
    "X_Test = np.ndarray(shape=(len(test_image_list), 80, 80, 3),dtype = np.float32)\n",
    "i=0\n",
    "for image in test_image_list:\n",
    "    #X_Test[i]=img_to_array(image)\n",
    "    X_Test[i]=test_image_list[i]\n",
    "    i=i+1\n",
    "    \n",
    "X_Test=X_Test/255\n",
    "print('Test Shape: {}'.format(X_Test.shape))"
   ]
  },
  {
   "cell_type": "code",
   "execution_count": 56,
   "metadata": {},
   "outputs": [
    {
     "name": "stdout",
     "output_type": "stream",
     "text": [
      "Train shape: (1821, 80, 80, 3), Test shape: (1821, 80, 80, 3)\n"
     ]
    }
   ],
   "source": [
    "print(\"Train shape: {}, Test shape: {}\".format(X_Train.shape, X_Test.shape))"
   ]
  },
  {
   "cell_type": "code",
   "execution_count": 58,
   "metadata": {},
   "outputs": [],
   "source": [
    "del train_image_list\n",
    "del test_image_list"
   ]
  },
  {
   "cell_type": "code",
   "execution_count": 67,
   "metadata": {},
   "outputs": [
    {
     "name": "stdout",
     "output_type": "stream",
     "text": [
      "(1821, 4)\n"
     ]
    }
   ],
   "source": [
    "y_train = train_df[train_df.keys().drop(\"image_id\")].values\n",
    "print(y_train.shape)"
   ]
  },
  {
   "cell_type": "code",
   "execution_count": 88,
   "metadata": {},
   "outputs": [],
   "source": [
    "keras.__version__\n",
    "img_size = 80"
   ]
  },
  {
   "cell_type": "code",
   "execution_count": 93,
   "metadata": {},
   "outputs": [],
   "source": [
    "def construct_model():\n",
    "    model = Sequential()\n",
    "    model.add(Conv2D(filters=32, kernel_size=(3, 3), padding='SAME', input_shape=(img_size, img_size, 3),\n",
    "                activation='relu'))\n",
    "    model.add(BatchNormalization()) # Normalize the activations of the previous layer at each batch\n",
    "    model.add(Conv2D(filters=32, kernel_size=(3, 3), padding='SAME', activation='relu'))\n",
    "    model.add(Conv2D(filters=32, kernel_size=(3, 3), padding='SAME', activation='relu'))\n",
    "    model.add(BatchNormalization())\n",
    "    model.add(MaxPool2D(pool_size=(2, 2)))\n",
    "    model.add(Conv2D(filters=32, kernel_size=(5, 5), padding='SAME', activation='relu'))\n",
    "    model.add(BatchNormalization())\n",
    "    model.add(Dropout(0.2))\n",
    "    \n",
    "    model.add(Conv2D(filters=64, kernel_size=(3, 3), padding='SAME', activation='relu'))\n",
    "    model.add(Conv2D(filters=64, kernel_size=(3, 3), padding='SAME', activation='relu'))\n",
    "    model.add(Conv2D(filters=64, kernel_size=(3, 3), padding='SAME', activation='relu'))\n",
    "    model.add(BatchNormalization())\n",
    "    model.add(MaxPool2D(pool_size=(2, 2)))\n",
    "    model.add(Conv2D(filters=64, kernel_size=(5, 5), padding='SAME', activation='relu'))\n",
    "    model.add(BatchNormalization())\n",
    "    model.add(Dropout(0.3))\n",
    "   \n",
    "    model.add(Conv2D(filters=128, kernel_size=(3, 3), padding='SAME', activation='relu'))\n",
    "    model.add(Conv2D(filters=128, kernel_size=(3, 3), padding='SAME', activation='relu'))\n",
    "    model.add(Conv2D(filters=128, kernel_size=(3, 3), padding='SAME', activation='relu'))\n",
    "    model.add(BatchNormalization())\n",
    "    model.add(MaxPool2D(pool_size=(2, 2)))\n",
    "    model.add(Conv2D(filters=128, kernel_size=(5, 5), padding='SAME', activation='relu'))\n",
    "    model.add(BatchNormalization())\n",
    "    model.add(Dropout(0.3))\n",
    "    \n",
    "    model.add(Conv2D(filters=256, kernel_size=(3, 3), padding='SAME', activation='relu'))\n",
    "    model.add(Conv2D(filters=256, kernel_size=(3, 3), padding='SAME', activation='relu'))\n",
    "    model.add(Conv2D(filters=256, kernel_size=(3, 3), padding='SAME', activation='relu'))\n",
    "    model.add(BatchNormalization())\n",
    "    model.add(MaxPool2D(pool_size=(2, 2)))\n",
    "    model.add(Conv2D(filters=256, kernel_size=(5, 5), padding='SAME', activation='relu'))\n",
    "    model.add(BatchNormalization())\n",
    "    model.add(Dropout(0.3))\n",
    "\n",
    "    model.add(Flatten()) # Flatten the input\n",
    "    model.add(Dense(64, activation='relu'))\n",
    "    model.add(Dropout(0.2))\n",
    "    model.add(Dense(32, activation='relu'))\n",
    "    model.add(Dense(4, activation='softmax'))\n",
    "    # Configure the learning process\n",
    "    # The loss function is the objective that the model will try to minimize\n",
    "    # For any classification problem, use accuracy metric\n",
    "    optimizer = Adam(lr=0.002, beta_1=0.9, beta_2=0.999, epsilon=0.1, decay=0.0)\n",
    "    model.compile(loss='categorical_crossentropy', optimizer=optimizer, metrics=['accuracy'])\n",
    "    \n",
    "    model.summary()\n",
    "    return model"
   ]
  },
  {
   "cell_type": "code",
   "execution_count": 94,
   "metadata": {},
   "outputs": [],
   "source": [
    "X_train, X_val, Y_train, Y_val = train_test_split(X_Train, y_train, test_size=0.2, random_state=42)"
   ]
  },
  {
   "cell_type": "code",
   "execution_count": 99,
   "metadata": {},
   "outputs": [
    {
     "name": "stdout",
     "output_type": "stream",
     "text": [
      "Model: \"sequential_5\"\n",
      "_________________________________________________________________\n",
      "Layer (type)                 Output Shape              Param #   \n",
      "=================================================================\n",
      "conv2d_24 (Conv2D)           (None, 80, 80, 32)        896       \n",
      "_________________________________________________________________\n",
      "batch_normalization_15 (Batc (None, 80, 80, 32)        128       \n",
      "_________________________________________________________________\n",
      "conv2d_25 (Conv2D)           (None, 80, 80, 32)        9248      \n",
      "_________________________________________________________________\n",
      "conv2d_26 (Conv2D)           (None, 80, 80, 32)        9248      \n",
      "_________________________________________________________________\n",
      "batch_normalization_16 (Batc (None, 80, 80, 32)        128       \n",
      "_________________________________________________________________\n",
      "max_pooling2d_6 (MaxPooling2 (None, 40, 40, 32)        0         \n",
      "_________________________________________________________________\n",
      "conv2d_27 (Conv2D)           (None, 40, 40, 32)        25632     \n",
      "_________________________________________________________________\n",
      "batch_normalization_17 (Batc (None, 40, 40, 32)        128       \n",
      "_________________________________________________________________\n",
      "dropout_6 (Dropout)          (None, 40, 40, 32)        0         \n",
      "_________________________________________________________________\n",
      "conv2d_28 (Conv2D)           (None, 40, 40, 64)        18496     \n",
      "_________________________________________________________________\n",
      "conv2d_29 (Conv2D)           (None, 40, 40, 64)        36928     \n",
      "_________________________________________________________________\n",
      "conv2d_30 (Conv2D)           (None, 40, 40, 64)        36928     \n",
      "_________________________________________________________________\n",
      "batch_normalization_18 (Batc (None, 40, 40, 64)        256       \n",
      "_________________________________________________________________\n",
      "max_pooling2d_7 (MaxPooling2 (None, 20, 20, 64)        0         \n",
      "_________________________________________________________________\n",
      "conv2d_31 (Conv2D)           (None, 20, 20, 64)        102464    \n",
      "_________________________________________________________________\n",
      "batch_normalization_19 (Batc (None, 20, 20, 64)        256       \n",
      "_________________________________________________________________\n",
      "dropout_7 (Dropout)          (None, 20, 20, 64)        0         \n",
      "_________________________________________________________________\n",
      "conv2d_32 (Conv2D)           (None, 20, 20, 128)       73856     \n",
      "_________________________________________________________________\n",
      "conv2d_33 (Conv2D)           (None, 20, 20, 128)       147584    \n",
      "_________________________________________________________________\n",
      "conv2d_34 (Conv2D)           (None, 20, 20, 128)       147584    \n",
      "_________________________________________________________________\n",
      "batch_normalization_20 (Batc (None, 20, 20, 128)       512       \n",
      "_________________________________________________________________\n",
      "max_pooling2d_8 (MaxPooling2 (None, 10, 10, 128)       0         \n",
      "_________________________________________________________________\n",
      "conv2d_35 (Conv2D)           (None, 10, 10, 128)       409728    \n",
      "_________________________________________________________________\n",
      "batch_normalization_21 (Batc (None, 10, 10, 128)       512       \n",
      "_________________________________________________________________\n",
      "dropout_8 (Dropout)          (None, 10, 10, 128)       0         \n",
      "_________________________________________________________________\n",
      "conv2d_36 (Conv2D)           (None, 10, 10, 256)       295168    \n",
      "_________________________________________________________________\n",
      "conv2d_37 (Conv2D)           (None, 10, 10, 256)       590080    \n",
      "_________________________________________________________________\n",
      "conv2d_38 (Conv2D)           (None, 10, 10, 256)       590080    \n",
      "_________________________________________________________________\n",
      "batch_normalization_22 (Batc (None, 10, 10, 256)       1024      \n",
      "_________________________________________________________________\n",
      "max_pooling2d_9 (MaxPooling2 (None, 5, 5, 256)         0         \n",
      "_________________________________________________________________\n",
      "conv2d_39 (Conv2D)           (None, 5, 5, 256)         1638656   \n",
      "_________________________________________________________________\n",
      "batch_normalization_23 (Batc (None, 5, 5, 256)         1024      \n",
      "_________________________________________________________________\n",
      "dropout_9 (Dropout)          (None, 5, 5, 256)         0         \n",
      "_________________________________________________________________\n",
      "flatten_2 (Flatten)          (None, 6400)              0         \n",
      "_________________________________________________________________\n",
      "dense_4 (Dense)              (None, 64)                409664    \n",
      "_________________________________________________________________\n",
      "dropout_10 (Dropout)         (None, 64)                0         \n",
      "_________________________________________________________________\n",
      "dense_5 (Dense)              (None, 32)                2080      \n",
      "_________________________________________________________________\n",
      "dense_6 (Dense)              (None, 4)                 132       \n",
      "=================================================================\n",
      "Total params: 4,548,420\n",
      "Trainable params: 4,546,436\n",
      "Non-trainable params: 1,984\n",
      "_________________________________________________________________\n"
     ]
    }
   ],
   "source": [
    "model = construct_model()"
   ]
  },
  {
   "cell_type": "code",
   "execution_count": 101,
   "metadata": {},
   "outputs": [],
   "source": [
    "datagen = ImageDataGenerator(rotation_range=360, # Degree range for random rotations\n",
    "                        width_shift_range=0.2, # Range for random horizontal shifts\n",
    "                        height_shift_range=0.2, # Range for random vertical shifts\n",
    "                        zoom_range=0.2, # Range for random zoom\n",
    "                        horizontal_flip=True, # Randomly flip inputs horizontally\n",
    "                        vertical_flip=True) # Randomly flip inputs vertically\n",
    "\n",
    "datagen.fit(X_train)"
   ]
  },
  {
   "cell_type": "code",
   "execution_count": 104,
   "metadata": {},
   "outputs": [
    {
     "name": "stdout",
     "output_type": "stream",
     "text": [
      "Epoch 1/120\n",
      "45/45 [==============================] - 13s 287ms/step - loss: 1.4993 - accuracy: 0.3265 - val_loss: 1.3973 - val_accuracy: 0.3288\n",
      "Epoch 2/120\n",
      "45/45 [==============================] - 4s 86ms/step - loss: 1.3115 - accuracy: 0.3294 - val_loss: 1.3931 - val_accuracy: 0.3479\n",
      "Epoch 3/120\n",
      "45/45 [==============================] - 4s 87ms/step - loss: 1.2672 - accuracy: 0.3441 - val_loss: 1.3704 - val_accuracy: 0.3342\n",
      "Epoch 4/120\n",
      "45/45 [==============================] - 4s 87ms/step - loss: 1.2566 - accuracy: 0.3504 - val_loss: 1.3935 - val_accuracy: 0.2740\n",
      "Epoch 5/120\n",
      "45/45 [==============================] - 4s 87ms/step - loss: 1.2560 - accuracy: 0.3441 - val_loss: 1.3982 - val_accuracy: 0.2740\n",
      "Epoch 6/120\n",
      "45/45 [==============================] - 4s 87ms/step - loss: 1.2387 - accuracy: 0.3820 - val_loss: 1.2557 - val_accuracy: 0.3479\n",
      "Epoch 7/120\n",
      "45/45 [==============================] - 4s 87ms/step - loss: 1.2390 - accuracy: 0.3926 - val_loss: 1.3257 - val_accuracy: 0.3479\n",
      "Epoch 8/120\n",
      "45/45 [==============================] - 4s 87ms/step - loss: 1.2367 - accuracy: 0.4101 - val_loss: 1.2631 - val_accuracy: 0.3479\n",
      "Epoch 9/120\n",
      "45/45 [==============================] - 4s 88ms/step - loss: 1.2234 - accuracy: 0.3890 - val_loss: 1.2830 - val_accuracy: 0.3123\n",
      "Epoch 10/120\n",
      "45/45 [==============================] - 4s 88ms/step - loss: 1.2101 - accuracy: 0.4087 - val_loss: 1.3074 - val_accuracy: 0.3397\n",
      "Epoch 11/120\n",
      "45/45 [==============================] - 4s 89ms/step - loss: 1.2279 - accuracy: 0.3882 - val_loss: 1.2443 - val_accuracy: 0.3479\n",
      "Epoch 12/120\n",
      "45/45 [==============================] - 4s 88ms/step - loss: 1.2189 - accuracy: 0.4010 - val_loss: 1.2243 - val_accuracy: 0.3836\n",
      "Epoch 13/120\n",
      "45/45 [==============================] - 4s 86ms/step - loss: 1.2359 - accuracy: 0.3855 - val_loss: 1.2068 - val_accuracy: 0.4137\n",
      "Epoch 14/120\n",
      "45/45 [==============================] - 4s 85ms/step - loss: 1.2150 - accuracy: 0.3984 - val_loss: 1.1910 - val_accuracy: 0.3918\n",
      "Epoch 15/120\n",
      "45/45 [==============================] - 4s 86ms/step - loss: 1.2078 - accuracy: 0.4146 - val_loss: 1.1540 - val_accuracy: 0.4493\n",
      "Epoch 16/120\n",
      "45/45 [==============================] - 4s 85ms/step - loss: 1.1967 - accuracy: 0.4297 - val_loss: 1.1709 - val_accuracy: 0.3699\n",
      "Epoch 17/120\n",
      "45/45 [==============================] - 4s 86ms/step - loss: 1.1884 - accuracy: 0.4424 - val_loss: 1.1366 - val_accuracy: 0.4740\n",
      "Epoch 18/120\n",
      "45/45 [==============================] - 4s 87ms/step - loss: 1.1734 - accuracy: 0.4528 - val_loss: 1.1280 - val_accuracy: 0.4822\n",
      "Epoch 19/120\n",
      "45/45 [==============================] - 4s 87ms/step - loss: 1.1898 - accuracy: 0.4545 - val_loss: 1.1631 - val_accuracy: 0.4575\n",
      "Epoch 20/120\n",
      "45/45 [==============================] - 4s 89ms/step - loss: 1.2019 - accuracy: 0.4529 - val_loss: 1.1493 - val_accuracy: 0.4932\n",
      "Epoch 21/120\n",
      "45/45 [==============================] - 4s 90ms/step - loss: 1.1740 - accuracy: 0.4642 - val_loss: 1.1657 - val_accuracy: 0.4301\n",
      "Epoch 22/120\n",
      "45/45 [==============================] - 4s 91ms/step - loss: 1.1752 - accuracy: 0.4556 - val_loss: 1.1135 - val_accuracy: 0.5041\n",
      "Epoch 23/120\n",
      "45/45 [==============================] - 4s 91ms/step - loss: 1.1705 - accuracy: 0.4529 - val_loss: 1.1131 - val_accuracy: 0.4932\n",
      "Epoch 24/120\n",
      "45/45 [==============================] - 4s 89ms/step - loss: 1.1366 - accuracy: 0.4740 - val_loss: 1.2221 - val_accuracy: 0.4164\n",
      "Epoch 25/120\n",
      "45/45 [==============================] - 4s 89ms/step - loss: 1.1657 - accuracy: 0.4652 - val_loss: 1.1378 - val_accuracy: 0.4438\n",
      "Epoch 26/120\n",
      "45/45 [==============================] - 4s 92ms/step - loss: 1.1429 - accuracy: 0.4938 - val_loss: 1.2159 - val_accuracy: 0.4493\n",
      "Epoch 27/120\n",
      "45/45 [==============================] - 4s 90ms/step - loss: 1.1292 - accuracy: 0.4972 - val_loss: 1.1140 - val_accuracy: 0.4822\n",
      "Epoch 28/120\n",
      "45/45 [==============================] - 4s 91ms/step - loss: 1.0968 - accuracy: 0.5250 - val_loss: 1.0782 - val_accuracy: 0.5288\n",
      "Epoch 29/120\n",
      "45/45 [==============================] - 4s 91ms/step - loss: 1.0610 - accuracy: 0.5376 - val_loss: 1.0687 - val_accuracy: 0.5233\n",
      "Epoch 30/120\n",
      "45/45 [==============================] - 4s 91ms/step - loss: 1.0095 - accuracy: 0.5892 - val_loss: 0.9445 - val_accuracy: 0.6356\n",
      "Epoch 31/120\n",
      "45/45 [==============================] - 4s 91ms/step - loss: 0.9021 - accuracy: 0.6472 - val_loss: 0.7458 - val_accuracy: 0.7096\n",
      "Epoch 32/120\n",
      "45/45 [==============================] - 4s 90ms/step - loss: 0.8144 - accuracy: 0.6854 - val_loss: 0.8608 - val_accuracy: 0.6521\n",
      "Epoch 33/120\n",
      "45/45 [==============================] - 4s 91ms/step - loss: 0.7196 - accuracy: 0.7285 - val_loss: 0.6750 - val_accuracy: 0.7562\n",
      "Epoch 34/120\n",
      "45/45 [==============================] - 4s 91ms/step - loss: 0.7637 - accuracy: 0.7180 - val_loss: 0.9284 - val_accuracy: 0.6795\n",
      "Epoch 35/120\n",
      "45/45 [==============================] - 4s 92ms/step - loss: 0.6673 - accuracy: 0.7632 - val_loss: 0.5627 - val_accuracy: 0.8000\n",
      "Epoch 36/120\n",
      "45/45 [==============================] - 4s 91ms/step - loss: 0.6340 - accuracy: 0.7795 - val_loss: 0.5612 - val_accuracy: 0.8137\n",
      "Epoch 37/120\n",
      "45/45 [==============================] - 4s 90ms/step - loss: 0.6206 - accuracy: 0.7774 - val_loss: 0.9818 - val_accuracy: 0.6301\n",
      "Epoch 38/120\n",
      "45/45 [==============================] - 4s 92ms/step - loss: 0.6003 - accuracy: 0.8041 - val_loss: 1.1105 - val_accuracy: 0.6740\n",
      "Epoch 39/120\n",
      "45/45 [==============================] - 4s 92ms/step - loss: 0.5575 - accuracy: 0.8174 - val_loss: 0.4880 - val_accuracy: 0.8411\n",
      "Epoch 40/120\n",
      "45/45 [==============================] - 4s 91ms/step - loss: 0.5207 - accuracy: 0.8308 - val_loss: 0.4875 - val_accuracy: 0.8493\n",
      "Epoch 41/120\n",
      "45/45 [==============================] - 4s 91ms/step - loss: 0.5012 - accuracy: 0.8385 - val_loss: 1.1323 - val_accuracy: 0.6301\n",
      "Epoch 42/120\n",
      "45/45 [==============================] - 4s 92ms/step - loss: 0.4848 - accuracy: 0.8511 - val_loss: 0.4787 - val_accuracy: 0.8356\n",
      "Epoch 43/120\n",
      "45/45 [==============================] - 4s 92ms/step - loss: 0.4628 - accuracy: 0.8546 - val_loss: 0.7127 - val_accuracy: 0.7123\n",
      "Epoch 44/120\n",
      "45/45 [==============================] - 4s 95ms/step - loss: 0.4538 - accuracy: 0.8581 - val_loss: 1.5787 - val_accuracy: 0.5726\n",
      "Epoch 45/120\n",
      "45/45 [==============================] - 4s 91ms/step - loss: 0.5029 - accuracy: 0.8448 - val_loss: 1.4410 - val_accuracy: 0.4493\n",
      "Epoch 46/120\n",
      "45/45 [==============================] - 4s 89ms/step - loss: 0.4914 - accuracy: 0.8462 - val_loss: 1.5438 - val_accuracy: 0.3562\n",
      "Epoch 47/120\n",
      "45/45 [==============================] - 4s 89ms/step - loss: 0.4560 - accuracy: 0.8553 - val_loss: 1.1857 - val_accuracy: 0.5945\n",
      "Epoch 48/120\n",
      "45/45 [==============================] - 4s 93ms/step - loss: 0.4693 - accuracy: 0.8588 - val_loss: 1.1223 - val_accuracy: 0.5945\n",
      "Epoch 49/120\n",
      "45/45 [==============================] - 4s 92ms/step - loss: 0.4146 - accuracy: 0.8750 - val_loss: 1.8056 - val_accuracy: 0.4411\n",
      "Epoch 50/120\n",
      "45/45 [==============================] - 4s 93ms/step - loss: 0.4239 - accuracy: 0.8694 - val_loss: 0.5245 - val_accuracy: 0.8329\n",
      "Epoch 51/120\n",
      "45/45 [==============================] - 4s 91ms/step - loss: 0.3754 - accuracy: 0.8813 - val_loss: 0.9280 - val_accuracy: 0.7178\n",
      "Epoch 52/120\n",
      "45/45 [==============================] - 4s 94ms/step - loss: 0.4096 - accuracy: 0.8736 - val_loss: 0.5182 - val_accuracy: 0.8055\n",
      "Epoch 53/120\n",
      "45/45 [==============================] - 4s 92ms/step - loss: 0.3735 - accuracy: 0.8869 - val_loss: 0.4060 - val_accuracy: 0.8466\n",
      "Epoch 54/120\n",
      "45/45 [==============================] - 4s 95ms/step - loss: 0.3700 - accuracy: 0.8840 - val_loss: 0.6089 - val_accuracy: 0.7425\n",
      "Epoch 55/120\n",
      "45/45 [==============================] - 4s 95ms/step - loss: 0.3749 - accuracy: 0.8906 - val_loss: 0.4445 - val_accuracy: 0.8356\n",
      "Epoch 56/120\n",
      "45/45 [==============================] - 4s 95ms/step - loss: 0.3608 - accuracy: 0.8862 - val_loss: 0.5230 - val_accuracy: 0.7918\n",
      "Epoch 57/120\n",
      "45/45 [==============================] - 4s 94ms/step - loss: 0.3565 - accuracy: 0.8890 - val_loss: 0.4850 - val_accuracy: 0.8110\n",
      "Epoch 58/120\n",
      "45/45 [==============================] - 4s 92ms/step - loss: 0.3838 - accuracy: 0.8876 - val_loss: 0.9499 - val_accuracy: 0.6000\n",
      "Epoch 59/120\n",
      "45/45 [==============================] - 4s 100ms/step - loss: 0.3887 - accuracy: 0.8869 - val_loss: 1.1046 - val_accuracy: 0.5342\n",
      "Epoch 60/120\n",
      "45/45 [==============================] - 4s 96ms/step - loss: 0.3612 - accuracy: 0.8876 - val_loss: 0.5582 - val_accuracy: 0.7671\n",
      "Epoch 61/120\n",
      "45/45 [==============================] - 4s 94ms/step - loss: 0.3656 - accuracy: 0.8834 - val_loss: 1.7238 - val_accuracy: 0.6192\n",
      "Epoch 62/120\n",
      "45/45 [==============================] - 4s 95ms/step - loss: 0.3850 - accuracy: 0.8778 - val_loss: 0.6227 - val_accuracy: 0.7836\n",
      "Epoch 63/120\n",
      "45/45 [==============================] - 4s 92ms/step - loss: 0.3204 - accuracy: 0.8984 - val_loss: 1.1781 - val_accuracy: 0.6548\n",
      "Epoch 64/120\n",
      "45/45 [==============================] - 4s 93ms/step - loss: 0.3513 - accuracy: 0.8896 - val_loss: 0.3383 - val_accuracy: 0.8740\n",
      "Epoch 65/120\n",
      "45/45 [==============================] - 4s 97ms/step - loss: 0.3066 - accuracy: 0.9062 - val_loss: 0.6300 - val_accuracy: 0.7370\n",
      "Epoch 66/120\n",
      "45/45 [==============================] - 4s 94ms/step - loss: 0.3468 - accuracy: 0.8958 - val_loss: 0.9913 - val_accuracy: 0.5205\n",
      "Epoch 67/120\n",
      "45/45 [==============================] - 6s 134ms/step - loss: 0.4015 - accuracy: 0.8864 - val_loss: 1.4759 - val_accuracy: 0.6356\n",
      "Epoch 68/120\n",
      "45/45 [==============================] - 4s 96ms/step - loss: 0.3311 - accuracy: 0.8951 - val_loss: 0.6161 - val_accuracy: 0.7753\n",
      "Epoch 69/120\n",
      "45/45 [==============================] - 4s 95ms/step - loss: 0.3125 - accuracy: 0.9024 - val_loss: 1.0124 - val_accuracy: 0.6685\n",
      "Epoch 70/120\n",
      "45/45 [==============================] - 4s 94ms/step - loss: 0.3162 - accuracy: 0.9027 - val_loss: 0.8827 - val_accuracy: 0.6877\n",
      "Epoch 71/120\n",
      "45/45 [==============================] - 4s 95ms/step - loss: 0.3118 - accuracy: 0.8951 - val_loss: 0.5573 - val_accuracy: 0.7808\n",
      "Epoch 72/120\n",
      "45/45 [==============================] - 4s 93ms/step - loss: 0.3015 - accuracy: 0.9070 - val_loss: 0.3534 - val_accuracy: 0.8877\n",
      "Epoch 73/120\n",
      "45/45 [==============================] - 4s 95ms/step - loss: 0.3098 - accuracy: 0.9094 - val_loss: 0.3072 - val_accuracy: 0.8849\n",
      "Epoch 74/120\n",
      "45/45 [==============================] - 4s 95ms/step - loss: 0.3053 - accuracy: 0.9028 - val_loss: 0.3191 - val_accuracy: 0.8986\n",
      "Epoch 75/120\n",
      "45/45 [==============================] - 4s 94ms/step - loss: 0.3191 - accuracy: 0.8984 - val_loss: 0.5900 - val_accuracy: 0.7808\n",
      "Epoch 76/120\n",
      "45/45 [==============================] - 4s 95ms/step - loss: 0.2937 - accuracy: 0.9038 - val_loss: 0.3461 - val_accuracy: 0.8630\n",
      "Epoch 77/120\n",
      "45/45 [==============================] - 4s 95ms/step - loss: 0.3238 - accuracy: 0.9003 - val_loss: 0.3230 - val_accuracy: 0.8822\n",
      "Epoch 78/120\n",
      "45/45 [==============================] - 4s 97ms/step - loss: 0.2832 - accuracy: 0.9066 - val_loss: 0.8635 - val_accuracy: 0.6548\n",
      "Epoch 79/120\n",
      "45/45 [==============================] - 4s 95ms/step - loss: 0.2713 - accuracy: 0.9052 - val_loss: 0.7843 - val_accuracy: 0.7205\n",
      "Epoch 80/120\n",
      "45/45 [==============================] - 4s 97ms/step - loss: 0.2932 - accuracy: 0.9090 - val_loss: 0.4308 - val_accuracy: 0.8466\n",
      "Epoch 81/120\n",
      "45/45 [==============================] - 4s 99ms/step - loss: 0.2730 - accuracy: 0.9143 - val_loss: 0.2625 - val_accuracy: 0.8986\n",
      "Epoch 82/120\n",
      "45/45 [==============================] - 4s 99ms/step - loss: 0.3139 - accuracy: 0.9062 - val_loss: 0.5343 - val_accuracy: 0.8384- loss: 0.3196 - accura\n",
      "Epoch 83/120\n",
      "45/45 [==============================] - 5s 100ms/step - loss: 0.2817 - accuracy: 0.9090 - val_loss: 0.3059 - val_accuracy: 0.9123\n",
      "Epoch 84/120\n",
      "45/45 [==============================] - 4s 98ms/step - loss: 0.2957 - accuracy: 0.9080 - val_loss: 0.4490 - val_accuracy: 0.8904\n",
      "Epoch 85/120\n",
      "45/45 [==============================] - 4s 96ms/step - loss: 0.2886 - accuracy: 0.9017 - val_loss: 0.4840 - val_accuracy: 0.7890\n",
      "Epoch 86/120\n",
      "45/45 [==============================] - 4s 94ms/step - loss: 0.2929 - accuracy: 0.9045 - val_loss: 0.4623 - val_accuracy: 0.7945\n",
      "Epoch 87/120\n",
      "45/45 [==============================] - 4s 95ms/step - loss: 0.2887 - accuracy: 0.9073 - val_loss: 1.6280 - val_accuracy: 0.5151\n",
      "Epoch 88/120\n",
      "45/45 [==============================] - 4s 98ms/step - loss: 0.2605 - accuracy: 0.9164 - val_loss: 0.4120 - val_accuracy: 0.8849\n",
      "Epoch 89/120\n",
      "45/45 [==============================] - 5s 101ms/step - loss: 0.3147 - accuracy: 0.8954 - val_loss: 0.3130 - val_accuracy: 0.8959\n",
      "Epoch 90/120\n",
      "45/45 [==============================] - 4s 100ms/step - loss: 0.2665 - accuracy: 0.9129 - val_loss: 0.3474 - val_accuracy: 0.8740\n",
      "Epoch 91/120\n",
      "45/45 [==============================] - 4s 97ms/step - loss: 0.2672 - accuracy: 0.9178 - val_loss: 0.3114 - val_accuracy: 0.9096\n",
      "Epoch 92/120\n",
      "45/45 [==============================] - 4s 93ms/step - loss: 0.2792 - accuracy: 0.9136 - val_loss: 0.4548 - val_accuracy: 0.8438\n",
      "Epoch 93/120\n",
      "45/45 [==============================] - 4s 95ms/step - loss: 0.2670 - accuracy: 0.9171 - val_loss: 0.3359 - val_accuracy: 0.8822\n",
      "Epoch 94/120\n",
      "45/45 [==============================] - 5s 108ms/step - loss: 0.2823 - accuracy: 0.9087 - val_loss: 0.4609 - val_accuracy: 0.8329\n",
      "Epoch 95/120\n",
      "45/45 [==============================] - 5s 103ms/step - loss: 0.2799 - accuracy: 0.9115 - val_loss: 0.3201 - val_accuracy: 0.8849\n",
      "Epoch 96/120\n",
      "45/45 [==============================] - 5s 101ms/step - loss: 0.2873 - accuracy: 0.9101 - val_loss: 1.0916 - val_accuracy: 0.6137\n",
      "Epoch 97/120\n",
      "45/45 [==============================] - 4s 99ms/step - loss: 0.2498 - accuracy: 0.9153 - val_loss: 0.2925 - val_accuracy: 0.9041\n",
      "Epoch 98/120\n",
      "45/45 [==============================] - 4s 97ms/step - loss: 0.2403 - accuracy: 0.9205 - val_loss: 0.3531 - val_accuracy: 0.8740\n",
      "Epoch 99/120\n",
      "45/45 [==============================] - 4s 98ms/step - loss: 0.2930 - accuracy: 0.9028 - val_loss: 0.9038 - val_accuracy: 0.6685\n",
      "Epoch 100/120\n",
      "45/45 [==============================] - 4s 99ms/step - loss: 0.2853 - accuracy: 0.9183 - val_loss: 0.3690 - val_accuracy: 0.8493\n",
      "Epoch 101/120\n",
      "45/45 [==============================] - 5s 101ms/step - loss: 0.2762 - accuracy: 0.9164 - val_loss: 0.8707 - val_accuracy: 0.6356cy: 0.\n",
      "Epoch 102/120\n",
      "45/45 [==============================] - 5s 101ms/step - loss: 0.2500 - accuracy: 0.9221 - val_loss: 0.7287 - val_accuracy: 0.7288\n",
      "Epoch 103/120\n",
      "45/45 [==============================] - 4s 100ms/step - loss: 0.2294 - accuracy: 0.9263 - val_loss: 0.4910 - val_accuracy: 0.8082\n",
      "Epoch 104/120\n",
      "45/45 [==============================] - 5s 101ms/step - loss: 0.2631 - accuracy: 0.9215 - val_loss: 0.5075 - val_accuracy: 0.8329\n",
      "Epoch 105/120\n",
      "45/45 [==============================] - 4s 99ms/step - loss: 0.2077 - accuracy: 0.9361 - val_loss: 0.4408 - val_accuracy: 0.8658\n",
      "Epoch 106/120\n",
      "45/45 [==============================] - 4s 94ms/step - loss: 0.2686 - accuracy: 0.9148 - val_loss: 0.7508 - val_accuracy: 0.6877\n",
      "Epoch 107/120\n",
      "45/45 [==============================] - 4s 95ms/step - loss: 0.2852 - accuracy: 0.9125 - val_loss: 0.4392 - val_accuracy: 0.8493\n",
      "Epoch 108/120\n",
      "45/45 [==============================] - 4s 94ms/step - loss: 0.2585 - accuracy: 0.9183 - val_loss: 0.5530 - val_accuracy: 0.7836\n",
      "Epoch 109/120\n",
      "45/45 [==============================] - 4s 95ms/step - loss: 0.2316 - accuracy: 0.9264 - val_loss: 0.4924 - val_accuracy: 0.8411\n",
      "Epoch 110/120\n",
      "45/45 [==============================] - 4s 94ms/step - loss: 0.2563 - accuracy: 0.9169 - val_loss: 0.4380 - val_accuracy: 0.8877\n",
      "Epoch 111/120\n",
      "45/45 [==============================] - 4s 96ms/step - loss: 0.2520 - accuracy: 0.9153 - val_loss: 1.2058 - val_accuracy: 0.6110\n",
      "Epoch 112/120\n",
      "45/45 [==============================] - 4s 95ms/step - loss: 0.2508 - accuracy: 0.9254 - val_loss: 0.7275 - val_accuracy: 0.7589\n",
      "Epoch 113/120\n",
      "45/45 [==============================] - 4s 98ms/step - loss: 0.2380 - accuracy: 0.9187 - val_loss: 0.5169 - val_accuracy: 0.8329\n",
      "Epoch 114/120\n",
      "45/45 [==============================] - 4s 97ms/step - loss: 0.2682 - accuracy: 0.9119 - val_loss: 0.4067 - val_accuracy: 0.8630\n"
     ]
    },
    {
     "name": "stdout",
     "output_type": "stream",
     "text": [
      "Epoch 115/120\n",
      "45/45 [==============================] - 4s 99ms/step - loss: 0.2501 - accuracy: 0.9194 - val_loss: 0.3120 - val_accuracy: 0.8904\n",
      "Epoch 116/120\n",
      "45/45 [==============================] - 4s 98ms/step - loss: 0.2348 - accuracy: 0.9305 - val_loss: 0.3617 - val_accuracy: 0.8877\n",
      "Epoch 117/120\n",
      "45/45 [==============================] - 4s 98ms/step - loss: 0.2459 - accuracy: 0.9206 - val_loss: 0.5694 - val_accuracy: 0.7973\n",
      "Epoch 118/120\n",
      "45/45 [==============================] - 4s 98ms/step - loss: 0.2204 - accuracy: 0.9291 - val_loss: 0.5770 - val_accuracy: 0.7671\n",
      "Epoch 119/120\n",
      "45/45 [==============================] - 4s 99ms/step - loss: 0.2763 - accuracy: 0.9129 - val_loss: 0.2873 - val_accuracy: 0.9041\n",
      "Epoch 120/120\n",
      "45/45 [==============================] - 4s 99ms/step - loss: 0.2717 - accuracy: 0.9105 - val_loss: 0.5704 - val_accuracy: 0.8137\n"
     ]
    }
   ],
   "source": [
    "hist = model.fit_generator(datagen.flow(X_train, Y_train, batch_size=32),\n",
    "               steps_per_epoch=X_train.shape[0] // 32,\n",
    "               epochs=120,\n",
    "               verbose=1,\n",
    "               validation_data=(X_val, Y_val))"
   ]
  },
  {
   "cell_type": "code",
   "execution_count": 108,
   "metadata": {},
   "outputs": [],
   "source": [
    "predict = model.predict(X_Test)\n",
    "all_predict = np.ndarray(shape = (test_df.shape[0],4),dtype = np.float32)\n",
    "for i in range(0,test_df.shape[0]):\n",
    "    for j in range(0,4):\n",
    "        if predict[i][j]==max(predict[i]):\n",
    "            all_predict[i][j] = 1\n",
    "        else:\n",
    "            all_predict[i][j] = 0 \n",
    "healthy = [y_test[0] for y_test in all_predict]\n",
    "multiple_diseases = [y_test[1] for y_test in all_predict]\n",
    "rust = [y_test[2] for y_test in all_predict]\n",
    "scab = [y_test[3] for y_test in all_predict]\n",
    "df = {'image_id':test_df.image_id,'healthy':healthy,'multiple_diseases':multiple_diseases,'rust':rust,'scab':scab}\n",
    "data = pd.DataFrame(df)\n",
    "data.to_csv(\"submission_5l.csv\", index=False)"
   ]
  },
  {
   "cell_type": "code",
   "execution_count": null,
   "metadata": {},
   "outputs": [],
   "source": []
  }
 ],
 "metadata": {
  "kernelspec": {
   "display_name": "Python 3",
   "language": "python",
   "name": "python3"
  },
  "language_info": {
   "codemirror_mode": {
    "name": "ipython",
    "version": 3
   },
   "file_extension": ".py",
   "mimetype": "text/x-python",
   "name": "python",
   "nbconvert_exporter": "python",
   "pygments_lexer": "ipython3",
   "version": "3.7.6"
  }
 },
 "nbformat": 4,
 "nbformat_minor": 4
}

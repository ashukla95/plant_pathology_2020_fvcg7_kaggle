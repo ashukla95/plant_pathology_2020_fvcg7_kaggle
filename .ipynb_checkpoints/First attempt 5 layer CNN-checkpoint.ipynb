{
 "cells": [
  {
   "cell_type": "code",
   "execution_count": 1,
   "metadata": {},
   "outputs": [],
   "source": [
    "import tensorflow as tf"
   ]
  },
  {
   "cell_type": "code",
   "execution_count": 3,
   "metadata": {},
   "outputs": [
    {
     "ename": "AttributeError",
     "evalue": "module 'tensorflow' has no attribute 'Session'",
     "output_type": "error",
     "traceback": [
      "\u001b[1;31m---------------------------------------------------------------------------\u001b[0m",
      "\u001b[1;31mAttributeError\u001b[0m                            Traceback (most recent call last)",
      "\u001b[1;32m<ipython-input-3-0c08bb5e9cc1>\u001b[0m in \u001b[0;36m<module>\u001b[1;34m\u001b[0m\n\u001b[1;32m----> 1\u001b[1;33m \u001b[1;32mwith\u001b[0m \u001b[0mtf\u001b[0m\u001b[1;33m.\u001b[0m\u001b[0mSession\u001b[0m\u001b[1;33m(\u001b[0m\u001b[1;33m)\u001b[0m \u001b[1;32mas\u001b[0m \u001b[0msess\u001b[0m\u001b[1;33m:\u001b[0m\u001b[1;33m\u001b[0m\u001b[1;33m\u001b[0m\u001b[0m\n\u001b[0m\u001b[0;32m      2\u001b[0m     \u001b[0mprint\u001b[0m\u001b[1;33m(\u001b[0m\u001b[1;34m\"Hello\"\u001b[0m\u001b[1;33m)\u001b[0m\u001b[1;33m\u001b[0m\u001b[1;33m\u001b[0m\u001b[0m\n",
      "\u001b[1;31mAttributeError\u001b[0m: module 'tensorflow' has no attribute 'Session'"
     ]
    }
   ],
   "source": [
    "with tf.Session() as sess:\n",
    "    print(\"Hello\")"
   ]
  },
  {
   "cell_type": "code",
   "execution_count": 4,
   "metadata": {},
   "outputs": [
    {
     "name": "stdout",
     "output_type": "stream",
     "text": [
      "[name: \"/device:CPU:0\"\n",
      "device_type: \"CPU\"\n",
      "memory_limit: 268435456\n",
      "locality {\n",
      "}\n",
      "incarnation: 11264566011526649576\n",
      ", name: \"/device:GPU:0\"\n",
      "device_type: \"GPU\"\n",
      "memory_limit: 4849834393\n",
      "locality {\n",
      "  bus_id: 1\n",
      "  links {\n",
      "  }\n",
      "}\n",
      "incarnation: 10500998229170270625\n",
      "physical_device_desc: \"device: 0, name: GeForce GTX 1660 Ti with Max-Q Design, pci bus id: 0000:01:00.0, compute capability: 7.5\"\n",
      "]\n"
     ]
    }
   ],
   "source": [
    "from tensorflow.python.client import device_lib\n",
    "print(device_lib.list_local_devices())"
   ]
  },
  {
   "cell_type": "code",
   "execution_count": 5,
   "metadata": {},
   "outputs": [
    {
     "name": "stdout",
     "output_type": "stream",
     "text": [
      "Default GPU Device: /device:GPU:0\n"
     ]
    }
   ],
   "source": [
    "import tensorflow as tf\n",
    "if tf.test.gpu_device_name():\n",
    "   print('Default GPU Device: {}'.format(tf.test.gpu_device_name()))\n",
    "else:\n",
    "   print(\"Please install GPU version of TF\")"
   ]
  },
  {
   "cell_type": "code",
   "execution_count": 22,
   "metadata": {},
   "outputs": [],
   "source": [
    "# module import block of code\n",
    "import os\n",
    "import pandas as pd\n",
    "import numpy as np\n",
    "import matplotlib.pyplot as plt\n",
    "import matplotlib.image as img"
   ]
  },
  {
   "cell_type": "code",
   "execution_count": 23,
   "metadata": {},
   "outputs": [],
   "source": [
    "train_df = pd.read_csv(\"train.csv\")\n",
    "test_df = pd.read_csv(\"test.csv\")\n",
    "sample_submission_df = pd.read_csv(\"sample_submission.csv\")"
   ]
  },
  {
   "cell_type": "code",
   "execution_count": 24,
   "metadata": {},
   "outputs": [],
   "source": [
    "shape_x, shape_y = 1365, 2048"
   ]
  },
  {
   "cell_type": "code",
   "execution_count": 25,
   "metadata": {},
   "outputs": [],
   "source": [
    "image_path = \"images/\""
   ]
  },
  {
   "cell_type": "code",
   "execution_count": 26,
   "metadata": {},
   "outputs": [],
   "source": [
    "# load train image\n",
    "train_image_list = []\n",
    "for image_name in train_df[\"image_id\"]:\n",
    "    image = img.imread(\"\".join([image_path, image_name,\".jpg\"]))\n",
    "    train_image_list.append(image)"
   ]
  },
  {
   "cell_type": "code",
   "execution_count": 27,
   "metadata": {},
   "outputs": [
    {
     "data": {
      "text/plain": [
       "1821"
      ]
     },
     "execution_count": 27,
     "metadata": {},
     "output_type": "execute_result"
    }
   ],
   "source": [
    "len(train_image_list)"
   ]
  },
  {
   "cell_type": "code",
   "execution_count": 28,
   "metadata": {},
   "outputs": [],
   "source": [
    "test_image_list = []\n",
    "for image_name in test_df[\"image_id\"]:\n",
    "    image = img.imread(\"\".join([image_path, image_name, \".jpg\"]))\n",
    "    test_image_list.append(image)"
   ]
  },
  {
   "cell_type": "code",
   "execution_count": 29,
   "metadata": {},
   "outputs": [
    {
     "data": {
      "text/plain": [
       "1821"
      ]
     },
     "execution_count": 29,
     "metadata": {},
     "output_type": "execute_result"
    }
   ],
   "source": [
    "len(test_image_list)"
   ]
  },
  {
   "cell_type": "code",
   "execution_count": 37,
   "metadata": {},
   "outputs": [
    {
     "ename": "MemoryError",
     "evalue": "Unable to allocate 56.9 GiB for an array with shape (1821, 1365, 2048, 3) and data type float32",
     "output_type": "error",
     "traceback": [
      "\u001b[1;31m---------------------------------------------------------------------------\u001b[0m",
      "\u001b[1;31mMemoryError\u001b[0m                               Traceback (most recent call last)",
      "\u001b[1;32m<ipython-input-37-9b9b75fbb745>\u001b[0m in \u001b[0;36m<module>\u001b[1;34m\u001b[0m\n\u001b[1;32m----> 1\u001b[1;33m \u001b[0mX_Train\u001b[0m \u001b[1;33m=\u001b[0m \u001b[0mnp\u001b[0m\u001b[1;33m.\u001b[0m\u001b[0mndarray\u001b[0m\u001b[1;33m(\u001b[0m\u001b[0mshape\u001b[0m\u001b[1;33m=\u001b[0m\u001b[1;33m(\u001b[0m\u001b[0mlen\u001b[0m\u001b[1;33m(\u001b[0m\u001b[0mtrain_image_list\u001b[0m\u001b[1;33m)\u001b[0m\u001b[1;33m,\u001b[0m \u001b[0mshape_x\u001b[0m\u001b[1;33m,\u001b[0m \u001b[0mshape_y\u001b[0m\u001b[1;33m,\u001b[0m \u001b[1;36m3\u001b[0m\u001b[1;33m)\u001b[0m\u001b[1;33m,\u001b[0m\u001b[0mdtype\u001b[0m \u001b[1;33m=\u001b[0m \u001b[0mnp\u001b[0m\u001b[1;33m.\u001b[0m\u001b[0mfloat32\u001b[0m\u001b[1;33m)\u001b[0m\u001b[1;33m\u001b[0m\u001b[1;33m\u001b[0m\u001b[0m\n\u001b[0m\u001b[0;32m      2\u001b[0m \u001b[0mi\u001b[0m\u001b[1;33m=\u001b[0m\u001b[1;36m0\u001b[0m\u001b[1;33m\u001b[0m\u001b[1;33m\u001b[0m\u001b[0m\n\u001b[0;32m      3\u001b[0m \u001b[1;32mfor\u001b[0m \u001b[0mimage\u001b[0m \u001b[1;32min\u001b[0m \u001b[0mtrain_image\u001b[0m\u001b[1;33m:\u001b[0m\u001b[1;33m\u001b[0m\u001b[1;33m\u001b[0m\u001b[0m\n\u001b[0;32m      4\u001b[0m     \u001b[1;31m#X_Train[i]=img_to_array(image)\u001b[0m\u001b[1;33m\u001b[0m\u001b[1;33m\u001b[0m\u001b[1;33m\u001b[0m\u001b[0m\n\u001b[0;32m      5\u001b[0m     \u001b[0mX_Train\u001b[0m\u001b[1;33m[\u001b[0m\u001b[0mi\u001b[0m\u001b[1;33m]\u001b[0m\u001b[1;33m=\u001b[0m\u001b[0mtrain_image_list\u001b[0m\u001b[1;33m[\u001b[0m\u001b[0mi\u001b[0m\u001b[1;33m]\u001b[0m\u001b[1;33m\u001b[0m\u001b[1;33m\u001b[0m\u001b[0m\n",
      "\u001b[1;31mMemoryError\u001b[0m: Unable to allocate 56.9 GiB for an array with shape (1821, 1365, 2048, 3) and data type float32"
     ]
    }
   ],
   "source": [
    "X_Train = np.ndarray(shape=(len(train_image_list), shape_x, shape_y, 3),dtype = np.float32)\n",
    "i=0\n",
    "for image in train_image:\n",
    "    #X_Train[i]=img_to_array(image)\n",
    "    X_Train[i]=train_image_list[i]\n",
    "    i=i+1\n",
    "X_Train=X_Train/255\n",
    "\n",
    "print('Train Shape: {}'.format(X_Train.shape))"
   ]
  },
  {
   "cell_type": "code",
   "execution_count": 38,
   "metadata": {},
   "outputs": [
    {
     "ename": "NameError",
     "evalue": "name 'img_size' is not defined",
     "output_type": "error",
     "traceback": [
      "\u001b[1;31m---------------------------------------------------------------------------\u001b[0m",
      "\u001b[1;31mNameError\u001b[0m                                 Traceback (most recent call last)",
      "\u001b[1;32m<ipython-input-38-819005c4131f>\u001b[0m in \u001b[0;36m<module>\u001b[1;34m\u001b[0m\n\u001b[1;32m----> 1\u001b[1;33m \u001b[0mX_Test\u001b[0m \u001b[1;33m=\u001b[0m \u001b[0mnp\u001b[0m\u001b[1;33m.\u001b[0m\u001b[0mndarray\u001b[0m\u001b[1;33m(\u001b[0m\u001b[0mshape\u001b[0m\u001b[1;33m=\u001b[0m\u001b[1;33m(\u001b[0m\u001b[0mlen\u001b[0m\u001b[1;33m(\u001b[0m\u001b[0mtest_image_list\u001b[0m\u001b[1;33m)\u001b[0m\u001b[1;33m,\u001b[0m \u001b[0mimg_size\u001b[0m\u001b[1;33m,\u001b[0m \u001b[0mimg_size\u001b[0m\u001b[1;33m,\u001b[0m \u001b[1;36m3\u001b[0m\u001b[1;33m)\u001b[0m\u001b[1;33m,\u001b[0m\u001b[0mdtype\u001b[0m \u001b[1;33m=\u001b[0m \u001b[0mnp\u001b[0m\u001b[1;33m.\u001b[0m\u001b[0mfloat32\u001b[0m\u001b[1;33m)\u001b[0m\u001b[1;33m\u001b[0m\u001b[1;33m\u001b[0m\u001b[0m\n\u001b[0m\u001b[0;32m      2\u001b[0m \u001b[0mi\u001b[0m\u001b[1;33m=\u001b[0m\u001b[1;36m0\u001b[0m\u001b[1;33m\u001b[0m\u001b[1;33m\u001b[0m\u001b[0m\n\u001b[0;32m      3\u001b[0m \u001b[1;32mfor\u001b[0m \u001b[0mimage\u001b[0m \u001b[1;32min\u001b[0m \u001b[0mtest_image_list\u001b[0m\u001b[1;33m:\u001b[0m\u001b[1;33m\u001b[0m\u001b[1;33m\u001b[0m\u001b[0m\n\u001b[0;32m      4\u001b[0m     \u001b[1;31m#X_Test[i]=img_to_array(image)\u001b[0m\u001b[1;33m\u001b[0m\u001b[1;33m\u001b[0m\u001b[1;33m\u001b[0m\u001b[0m\n\u001b[0;32m      5\u001b[0m     \u001b[0mX_Test\u001b[0m\u001b[1;33m[\u001b[0m\u001b[0mi\u001b[0m\u001b[1;33m]\u001b[0m\u001b[1;33m=\u001b[0m\u001b[0mtest_image\u001b[0m\u001b[1;33m[\u001b[0m\u001b[0mi\u001b[0m\u001b[1;33m]\u001b[0m\u001b[1;33m\u001b[0m\u001b[1;33m\u001b[0m\u001b[0m\n",
      "\u001b[1;31mNameError\u001b[0m: name 'img_size' is not defined"
     ]
    }
   ],
   "source": [
    "X_Test = np.ndarray(shape=(len(test_image_list), shape_x, shape_y, 3),dtype = np.float32)\n",
    "i=0\n",
    "for image in test_image_list:\n",
    "    #X_Test[i]=img_to_array(image)\n",
    "    X_Test[i]=test_image[i]\n",
    "    i=i+1\n",
    "    \n",
    "X_Test=X_Test/255\n",
    "print('Test Shape: {}'.format(X_Test.shape))"
   ]
  },
  {
   "cell_type": "code",
   "execution_count": 36,
   "metadata": {},
   "outputs": [
    {
     "ename": "ValueError",
     "evalue": "cannot reshape array of size 1821 into shape (1821,1365,1365,3)",
     "output_type": "error",
     "traceback": [
      "\u001b[1;31m---------------------------------------------------------------------------\u001b[0m",
      "\u001b[1;31mValueError\u001b[0m                                Traceback (most recent call last)",
      "\u001b[1;32m<ipython-input-36-9eee88a36260>\u001b[0m in \u001b[0;36m<module>\u001b[1;34m\u001b[0m\n\u001b[1;32m----> 1\u001b[1;33m \u001b[0mtrain_image_list\u001b[0m \u001b[1;33m=\u001b[0m \u001b[0mnp\u001b[0m\u001b[1;33m.\u001b[0m\u001b[0masarray\u001b[0m\u001b[1;33m(\u001b[0m\u001b[0mtrain_image_list\u001b[0m\u001b[1;33m)\u001b[0m\u001b[1;33m.\u001b[0m\u001b[0mreshape\u001b[0m\u001b[1;33m(\u001b[0m\u001b[1;33m(\u001b[0m\u001b[0mlen\u001b[0m\u001b[1;33m(\u001b[0m\u001b[0mtrain_image_list\u001b[0m\u001b[1;33m)\u001b[0m\u001b[1;33m,\u001b[0m \u001b[0mshape_x\u001b[0m\u001b[1;33m,\u001b[0m \u001b[0mshape_x\u001b[0m\u001b[1;33m,\u001b[0m \u001b[1;36m3\u001b[0m\u001b[1;33m)\u001b[0m\u001b[1;33m)\u001b[0m\u001b[1;33m\u001b[0m\u001b[1;33m\u001b[0m\u001b[0m\n\u001b[0m\u001b[0;32m      2\u001b[0m \u001b[0mtest_image_list\u001b[0m \u001b[1;33m=\u001b[0m \u001b[0mnp\u001b[0m\u001b[1;33m.\u001b[0m\u001b[0masarray\u001b[0m\u001b[1;33m(\u001b[0m\u001b[0mtest_image_list\u001b[0m\u001b[1;33m)\u001b[0m\u001b[1;33m.\u001b[0m\u001b[0mreshape\u001b[0m\u001b[1;33m(\u001b[0m\u001b[1;33m(\u001b[0m\u001b[0mlen\u001b[0m\u001b[1;33m(\u001b[0m\u001b[0mtest_image_list\u001b[0m\u001b[1;33m)\u001b[0m\u001b[1;33m,\u001b[0m \u001b[0mshape_x\u001b[0m\u001b[1;33m,\u001b[0m \u001b[0mshape_x\u001b[0m\u001b[1;33m,\u001b[0m \u001b[1;36m3\u001b[0m\u001b[1;33m)\u001b[0m\u001b[1;33m)\u001b[0m\u001b[1;33m\u001b[0m\u001b[1;33m\u001b[0m\u001b[0m\n",
      "\u001b[1;31mValueError\u001b[0m: cannot reshape array of size 1821 into shape (1821,1365,1365,3)"
     ]
    }
   ],
   "source": [
    "train_image_list = np.asarray(train_image_list).reshape((len(train_image_list), shape_x, shape_y, 3))\n",
    "test_image_list = np.asarray(test_image_list).reshape((len(test_image_list), shape_x, shape_y, 3))"
   ]
  },
  {
   "cell_type": "code",
   "execution_count": 33,
   "metadata": {},
   "outputs": [
    {
     "name": "stdout",
     "output_type": "stream",
     "text": [
      "Train shape: (1821,), Test shape: (1821,)\n"
     ]
    }
   ],
   "source": [
    "print(\"Train shape: {}, Test shape: {}\".format(train_image_list.shape, test_image_list.shape))"
   ]
  },
  {
   "cell_type": "code",
   "execution_count": 34,
   "metadata": {},
   "outputs": [
    {
     "data": {
      "text/plain": [
       "array([array([[[ 33,  51,  13],\n",
       "        [ 33,  51,  13],\n",
       "        [ 33,  51,  13],\n",
       "        ...,\n",
       "        [ 51,  61,  27],\n",
       "        [ 51,  61,  27],\n",
       "        [ 51,  61,  27]],\n",
       "\n",
       "       [[ 33,  51,  13],\n",
       "        [ 33,  51,  13],\n",
       "        [ 33,  51,  13],\n",
       "        ...,\n",
       "        [ 50,  60,  26],\n",
       "        [ 50,  60,  26],\n",
       "        [ 50,  60,  26]],\n",
       "\n",
       "       [[ 33,  51,  13],\n",
       "        [ 33,  51,  13],\n",
       "        [ 33,  51,  13],\n",
       "        ...,\n",
       "        [ 50,  60,  26],\n",
       "        [ 50,  60,  26],\n",
       "        [ 50,  60,  26]],\n",
       "\n",
       "       ...,\n",
       "\n",
       "       [[181, 167, 120],\n",
       "        [182, 168, 121],\n",
       "        [182, 168, 121],\n",
       "        ...,\n",
       "        [199, 206, 152],\n",
       "        [197, 202, 148],\n",
       "        [196, 201, 145]],\n",
       "\n",
       "       [[181, 167, 120],\n",
       "        [182, 168, 121],\n",
       "        [182, 168, 121],\n",
       "        ...,\n",
       "        [199, 207, 156],\n",
       "        [198, 205, 153],\n",
       "        [202, 206, 155]],\n",
       "\n",
       "       [[181, 167, 120],\n",
       "        [182, 168, 121],\n",
       "        [182, 168, 121],\n",
       "        ...,\n",
       "        [205, 213, 164],\n",
       "        [206, 212, 164],\n",
       "        [210, 216, 168]]], dtype=uint8),\n",
       "       array([[[203, 215, 215],\n",
       "        [203, 215, 215],\n",
       "        [204, 216, 216],\n",
       "        ...,\n",
       "        [225, 248, 254],\n",
       "        [225, 248, 255],\n",
       "        [225, 248, 255]],\n",
       "\n",
       "       [[203, 215, 215],\n",
       "        [203, 215, 215],\n",
       "        [204, 216, 216],\n",
       "        ...,\n",
       "        [226, 249, 255],\n",
       "        [225, 248, 255],\n",
       "        [225, 248, 255]],\n",
       "\n",
       "       [[203, 215, 215],\n",
       "        [204, 216, 216],\n",
       "        [205, 217, 217],\n",
       "        ...,\n",
       "        [226, 249, 255],\n",
       "        [226, 249, 255],\n",
       "        [225, 248, 254]],\n",
       "\n",
       "       ...,\n",
       "\n",
       "       [[212, 213, 145],\n",
       "        [212, 213, 145],\n",
       "        [212, 213, 143],\n",
       "        ...,\n",
       "        [ 79, 117,  78],\n",
       "        [ 79, 117,  78],\n",
       "        [ 79, 117,  78]],\n",
       "\n",
       "       [[212, 213, 145],\n",
       "        [212, 213, 145],\n",
       "        [212, 213, 143],\n",
       "        ...,\n",
       "        [ 79, 117,  78],\n",
       "        [ 80, 118,  79],\n",
       "        [ 80, 118,  79]],\n",
       "\n",
       "       [[212, 213, 145],\n",
       "        [212, 213, 145],\n",
       "        [212, 213, 143],\n",
       "        ...,\n",
       "        [ 79, 117,  78],\n",
       "        [ 80, 118,  79],\n",
       "        [ 80, 118,  79]]], dtype=uint8),\n",
       "       array([[[120, 124, 109],\n",
       "        [120, 124, 109],\n",
       "        [121, 125, 110],\n",
       "        ...,\n",
       "        [ 38,  94,  49],\n",
       "        [ 38,  94,  49],\n",
       "        [ 38,  94,  49]],\n",
       "\n",
       "       [[120, 124, 109],\n",
       "        [120, 124, 109],\n",
       "        [121, 125, 110],\n",
       "        ...,\n",
       "        [ 39,  95,  50],\n",
       "        [ 38,  94,  49],\n",
       "        [ 38,  94,  49]],\n",
       "\n",
       "       [[120, 124, 109],\n",
       "        [120, 124, 109],\n",
       "        [121, 125, 110],\n",
       "        ...,\n",
       "        [ 39,  95,  50],\n",
       "        [ 39,  95,  50],\n",
       "        [ 38,  94,  49]],\n",
       "\n",
       "       ...,\n",
       "\n",
       "       [[ 64, 121,  89],\n",
       "        [ 64, 121,  89],\n",
       "        [ 62, 122,  88],\n",
       "        ...,\n",
       "        [221, 205, 192],\n",
       "        [221, 205, 192],\n",
       "        [221, 205, 192]],\n",
       "\n",
       "       [[ 65, 122,  90],\n",
       "        [ 65, 122,  90],\n",
       "        [ 62, 122,  88],\n",
       "        ...,\n",
       "        [220, 204, 191],\n",
       "        [220, 204, 191],\n",
       "        [220, 204, 191]],\n",
       "\n",
       "       [[ 65, 122,  90],\n",
       "        [ 65, 122,  90],\n",
       "        [ 63, 123,  89],\n",
       "        ...,\n",
       "        [220, 204, 191],\n",
       "        [220, 204, 191],\n",
       "        [220, 204, 191]]], dtype=uint8),\n",
       "       ...,\n",
       "       array([[[213, 180, 173],\n",
       "        [213, 180, 173],\n",
       "        [213, 180, 173],\n",
       "        ...,\n",
       "        [219, 222, 203],\n",
       "        [219, 222, 203],\n",
       "        [219, 222, 203]],\n",
       "\n",
       "       [[213, 180, 173],\n",
       "        [213, 180, 173],\n",
       "        [213, 180, 173],\n",
       "        ...,\n",
       "        [219, 222, 203],\n",
       "        [219, 222, 203],\n",
       "        [219, 222, 203]],\n",
       "\n",
       "       [[213, 180, 173],\n",
       "        [213, 180, 173],\n",
       "        [213, 180, 173],\n",
       "        ...,\n",
       "        [219, 222, 203],\n",
       "        [219, 222, 203],\n",
       "        [219, 222, 203]],\n",
       "\n",
       "       ...,\n",
       "\n",
       "       [[ 71,  97,  52],\n",
       "        [ 71,  97,  52],\n",
       "        [ 71,  97,  52],\n",
       "        ...,\n",
       "        [179, 191, 117],\n",
       "        [179, 191, 117],\n",
       "        [179, 191, 117]],\n",
       "\n",
       "       [[ 71,  97,  52],\n",
       "        [ 71,  97,  52],\n",
       "        [ 71,  97,  52],\n",
       "        ...,\n",
       "        [180, 192, 118],\n",
       "        [180, 192, 118],\n",
       "        [180, 192, 118]],\n",
       "\n",
       "       [[ 71,  97,  52],\n",
       "        [ 71,  97,  52],\n",
       "        [ 71,  97,  52],\n",
       "        ...,\n",
       "        [180, 192, 118],\n",
       "        [180, 192, 118],\n",
       "        [180, 192, 118]]], dtype=uint8),\n",
       "       array([[[ 82, 111, 106],\n",
       "        [ 82, 111, 106],\n",
       "        [ 82, 111, 106],\n",
       "        ...,\n",
       "        [ 81, 115,  91],\n",
       "        [ 80, 114,  89],\n",
       "        [ 80, 114,  89]],\n",
       "\n",
       "       [[ 82, 111, 106],\n",
       "        [ 82, 111, 106],\n",
       "        [ 82, 111, 106],\n",
       "        ...,\n",
       "        [ 81, 115,  91],\n",
       "        [ 80, 114,  89],\n",
       "        [ 80, 114,  89]],\n",
       "\n",
       "       [[ 82, 111, 106],\n",
       "        [ 82, 111, 106],\n",
       "        [ 82, 111, 106],\n",
       "        ...,\n",
       "        [ 82, 116,  92],\n",
       "        [ 81, 115,  90],\n",
       "        [ 80, 114,  89]],\n",
       "\n",
       "       ...,\n",
       "\n",
       "       [[ 63,  80,  74],\n",
       "        [ 61,  78,  72],\n",
       "        [ 59,  76,  70],\n",
       "        ...,\n",
       "        [ 45,  68,  60],\n",
       "        [ 46,  69,  61],\n",
       "        [ 46,  69,  61]],\n",
       "\n",
       "       [[ 64,  81,  75],\n",
       "        [ 62,  79,  73],\n",
       "        [ 60,  77,  71],\n",
       "        ...,\n",
       "        [ 45,  68,  60],\n",
       "        [ 46,  69,  61],\n",
       "        [ 46,  69,  61]],\n",
       "\n",
       "       [[ 65,  82,  76],\n",
       "        [ 63,  80,  74],\n",
       "        [ 61,  78,  72],\n",
       "        ...,\n",
       "        [ 45,  68,  60],\n",
       "        [ 46,  69,  61],\n",
       "        [ 46,  69,  61]]], dtype=uint8),\n",
       "       array([[[186, 157,  27],\n",
       "        [186, 157,  27],\n",
       "        [186, 157,  29],\n",
       "        ...,\n",
       "        [ 44,  66,  20],\n",
       "        [ 44,  66,  20],\n",
       "        [ 44,  66,  20]],\n",
       "\n",
       "       [[186, 157,  29],\n",
       "        [186, 157,  29],\n",
       "        [186, 157,  29],\n",
       "        ...,\n",
       "        [ 45,  67,  21],\n",
       "        [ 44,  66,  20],\n",
       "        [ 44,  66,  20]],\n",
       "\n",
       "       [[186, 157,  31],\n",
       "        [186, 157,  31],\n",
       "        [186, 157,  31],\n",
       "        ...,\n",
       "        [ 45,  67,  21],\n",
       "        [ 45,  67,  21],\n",
       "        [ 44,  66,  20]],\n",
       "\n",
       "       ...,\n",
       "\n",
       "       [[ 82, 109,  32],\n",
       "        [ 82, 109,  32],\n",
       "        [ 80, 108,  31],\n",
       "        ...,\n",
       "        [161, 132, 124],\n",
       "        [161, 132, 124],\n",
       "        [162, 133, 125]],\n",
       "\n",
       "       [[ 83, 110,  33],\n",
       "        [ 82, 109,  32],\n",
       "        [ 80, 108,  31],\n",
       "        ...,\n",
       "        [161, 132, 124],\n",
       "        [161, 132, 124],\n",
       "        [161, 132, 124]],\n",
       "\n",
       "       [[ 83, 110,  33],\n",
       "        [ 83, 110,  33],\n",
       "        [ 81, 109,  32],\n",
       "        ...,\n",
       "        [160, 131, 123],\n",
       "        [161, 132, 124],\n",
       "        [161, 132, 124]]], dtype=uint8)], dtype=object)"
      ]
     },
     "execution_count": 34,
     "metadata": {},
     "output_type": "execute_result"
    }
   ],
   "source": [
    "train_image_lis"
   ]
  },
  {
   "cell_type": "code",
   "execution_count": null,
   "metadata": {},
   "outputs": [],
   "source": []
  }
 ],
 "metadata": {
  "kernelspec": {
   "display_name": "Python 3",
   "language": "python",
   "name": "python3"
  },
  "language_info": {
   "codemirror_mode": {
    "name": "ipython",
    "version": 3
   },
   "file_extension": ".py",
   "mimetype": "text/x-python",
   "name": "python",
   "nbconvert_exporter": "python",
   "pygments_lexer": "ipython3",
   "version": "3.7.6"
  }
 },
 "nbformat": 4,
 "nbformat_minor": 4
}
